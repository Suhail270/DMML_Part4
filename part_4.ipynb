{
 "cells": [
  {
   "cell_type": "code",
   "execution_count": 1,
   "metadata": {},
   "outputs": [],
   "source": [
    "import pandas as pd\n",
    "\n",
    "x_train = pd.read_csv('CompleteDataset/x_train_all.csv')\n",
    "y_train = pd.read_csv('CompleteDataset/y_train_all.csv')\n",
    "x_test = pd.read_csv('CompleteDataset/x_test_all.csv')  \n",
    "y_test = pd.read_csv('CompleteDataset/y_test_all.csv')"
   ]
  },
  {
   "cell_type": "code",
   "execution_count": 2,
   "metadata": {},
   "outputs": [],
   "source": [
    "from sklearn.linear_model import LogisticRegression\n",
    "\n",
    "# Despite the name logisticRegression is implemented as a linear model for classsification\n",
    "linear_clf = LogisticRegression(random_state=0, solver=\"newton-cholesky\")"
   ]
  },
  {
   "cell_type": "code",
   "execution_count": 3,
   "metadata": {},
   "outputs": [
    {
     "data": {
      "text/plain": [
       "0.8537216828478964"
      ]
     },
     "execution_count": 3,
     "metadata": {},
     "output_type": "execute_result"
    }
   ],
   "source": [
    "from sklearn.metrics import accuracy_score\n",
    "\n",
    "linear_clf.fit(x_train, y_train.to_numpy().ravel())\n",
    "y_pred = linear_clf.predict_proba(x_test)\n",
    "accuracy_score(y_test.to_numpy().ravel(), y_pred.ravel())"
   ]
  },
  {
   "cell_type": "code",
   "execution_count": 4,
   "metadata": {},
   "outputs": [
    {
     "data": {
      "text/plain": [
       "0.8537216828478964"
      ]
     },
     "execution_count": 4,
     "metadata": {},
     "output_type": "execute_result"
    }
   ],
   "source": [
    "accuracy_score(y_test.to_numpy().ravel(), y_pred.ravel())"
   ]
  },
  {
   "cell_type": "code",
   "execution_count": 5,
   "metadata": {},
   "outputs": [],
   "source": [
    "from sklearn.model_selection import StratifiedKFold, cross_val_score\n",
    "\n",
    "# perfom (stratified) 10 fold cross validation\n",
    "# stratifying accomodates class imbalances\n",
    "kfold = StratifiedKFold(n_splits=10, shuffle=True, random_state=0)"
   ]
  },
  {
   "cell_type": "code",
   "execution_count": 6,
   "metadata": {},
   "outputs": [],
   "source": [
    "# import matplotlib.pyplot as plt\n",
    "# import numpy as np\n",
    "# import seaborn as sns\n",
    "# from sklearn.model_selection import cross_val_score, cross_val_predict, StratifiedKFold\n",
    "# from sklearn.tree import DecisionTreeClassifier\n",
    "# from sklearn.metrics import precision_recall_fscore_support, roc_auc_score, confusion_matrix\n",
    "# from sklearn.preprocessing import label_binarize\n",
    "\n",
    "# def cross_val_metrics(clf, input_data, labels):\n",
    "\n",
    "#     labels = labels.to_numpy().ravel()\n",
    "\n",
    "#     # Perform 10-fold cross-validation\n",
    "#     cv = StratifiedKFold(n_splits=10, shuffle=True, random_state=42)\n",
    "#     cv_scores = cross_val_score(clf, input_data, labels, cv=cv, scoring='accuracy')\n",
    "\n",
    "#     # Print the cross-validation scores, mean accuracy, and standard deviation\n",
    "#     print(\"Cross-validation accuracy scores:\", cv_scores)\n",
    "#     print(\"Mean accuracy:\", cv_scores.mean())\n",
    "#     print(\"Standard deviation:\", cv_scores.std())\n",
    "\n",
    "#     # Get predicted labels for each fold\n",
    "#     y_pred = cross_val_predict(clf, input_data, labels, cv=cv)\n",
    "\n",
    "#     # Compute overall precision, recall, F1 score, and support\n",
    "#     precision, recall, f1, support = precision_recall_fscore_support(labels, y_pred, average='macro')\n",
    "\n",
    "#     # Print overall metrics\n",
    "#     print(\"Overall Precision:\", precision)\n",
    "#     print(\"Overall Recall:\", recall)\n",
    "#     print(\"Overall F1 Score:\", f1)\n",
    "\n",
    "#     # Initialize variables to store overall metrics and confusion matrix\n",
    "#     overall_conf_matrix = np.zeros((len(np.unique(labels)), len(np.unique(labels))))\n",
    "\n",
    "#     # Loop over each fold\n",
    "#     for i, (train_idx, test_idx) in enumerate(cv.split(input_data, labels)):\n",
    "#         X_train, X_test = input_data.iloc[train_idx], input_data.iloc[test_idx]\n",
    "#         y_train, y_test = labels.iloc[train_idx], labels.iloc[test_idx]\n",
    "\n",
    "#         # Fit the classifier\n",
    "#         clf.fit(X_train, y_train)\n",
    "\n",
    "#         # Predict on the test set\n",
    "#         y_fold_pred = clf.predict(X_test)\n",
    "\n",
    "#         # Compute and plot confusion matrix\n",
    "#         conf_matrix = confusion_matrix(y_test, y_fold_pred)\n",
    "#         overall_conf_matrix += conf_matrix\n",
    "\n",
    "#     # Calculate and print average confusion matrix\n",
    "#     labels_annot = list(np.unique(np.array(labels)))\n",
    "#     avg_conf_matrix = overall_conf_matrix / 10\n",
    "#     plt.figure(figsize=(8, 6))\n",
    "#     sns.heatmap(avg_conf_matrix, annot=True, fmt=\".2f\", xticklabels=labels_annot, yticklabels=labels_annot)\n",
    "#     plt.title(\"Average Confusion Matrix\")\n",
    "#     plt.xlabel(\"Predicted Labels\")\n",
    "#     plt.ylabel(\"Actual Labels\")\n",
    "#     plt.show()\n",
    "\n",
    "#     X = input_data.values  # Convert DataFrame to NumPy array\n",
    "#     y = labels.values  # Convert DataFrame to NumPy array\n",
    "\n",
    "#     y_scores = np.zeros((len(y), len(np.unique(y))))\n",
    "\n",
    "#     for train, test in cv.split(X, y):\n",
    "#         clf.fit(X[train], y[train])\n",
    "#         y_scores[test] = clf.predict_proba(X[test])\n",
    "\n",
    "#     # Compute overall ROC-AUC score\n",
    "#     roc_auc = roc_auc_score(label_binarize(y, classes=np.unique(y)), y_scores, average='macro')\n",
    "\n",
    "#     # Print overall ROC-AUC score\n",
    "#     print(\"Overall ROC-AUC:\", roc_auc)\n",
    "\n",
    "    \n",
    "\n",
    "\n",
    "# def plot_learning_curve(input_data, labels):\n",
    "#     dt_classifier = DecisionTreeClassifier()\n",
    "\n",
    "#     train_sizes = np.linspace(0.1, 1.0, 10)\n",
    "#     train_scores, val_scores = [], []\n",
    "\n",
    "#     for size in train_sizes:\n",
    "#         sample_size = int(len(input_data) * size)\n",
    "#         train_score = np.mean(cross_val_score(dt_classifier, input_data[:sample_size], labels[:sample_size], cv=10))\n",
    "#         train_scores.append(train_score)\n",
    "#         val_score = np.mean(cross_val_score(dt_classifier, input_data, labels, cv=10))\n",
    "#         val_scores.append(val_score)\n",
    "\n",
    "#     plt.figure(figsize=(10, 6))\n",
    "#     plt.plot(train_sizes * len(input_data), train_scores, 'o-', color=\"red\", label=\"Training score\")\n",
    "#     plt.plot(train_sizes * len(input_data), val_scores, 'o-', color=\"green\", label=\"Cross-validation score\")\n",
    "\n",
    "#     plt.title(\"Decision Tree Learning Curve\")\n",
    "#     plt.xlabel(\"Number of training examples\")\n",
    "#     plt.ylabel(\"Accuracy\")\n",
    "#     plt.legend(loc=\"best\")\n",
    "#     plt.show()\n",
    "\n",
    "#     print(\"Average Training Score:\", sum(train_scores)/10 )\n",
    "#     print(\"Average Cross-Validation Score:\",sum(val_scores)/10)\n"
   ]
  },
  {
   "cell_type": "code",
   "execution_count": 7,
   "metadata": {},
   "outputs": [],
   "source": [
    "# cross_val_metrics(linear_clf, x_train, y_train)"
   ]
  },
  {
   "cell_type": "code",
   "execution_count": 8,
   "metadata": {},
   "outputs": [
    {
     "name": "stdout",
     "output_type": "stream",
     "text": [
      "Mean accuracy: 0.8981424148606811\n",
      "Standard deviation: 0.011794090003987286\n"
     ]
    },
    {
     "data": {
      "image/png": "[encoded data removed]",
      "text/plain": [
       "<Figure size 800x600 with 1 Axes>"
      ]
     },
     "metadata": {},
     "output_type": "display_data"
    }
   ],
   "source": [
    "import matplotlib.pyplot as plt\n",
    "\n",
    "cv = StratifiedKFold(n_splits=10, shuffle=True, random_state=42)\n",
    "cv_scores = cross_val_score(linear_clf, x_train, y_train.to_numpy().ravel(), cv=cv, scoring='accuracy')\n",
    "\n",
    "print(\"Mean accuracy:\", cv_scores.mean())\n",
    "print(\"Standard deviation:\", cv_scores.std())\n",
    "\n",
    "# Plotting the cross-validation scores\n",
    "plt.figure(figsize=(8, 6))\n",
    "plt.bar(range(len(cv_scores)), cv_scores, color='lightgreen')\n",
    "plt.xlabel('Fold')\n",
    "plt.ylabel('Accuracy')\n",
    "plt.title('Cross-Validation Scores')\n",
    "plt.ylim(0, 1)  # Set the y-axis limits if needed\n",
    "plt.show()"
   ]
  },
  {
   "cell_type": "markdown",
   "metadata": {},
   "source": [
    "The test set accuracy and cross-validation accuracy (??? and ??? respectively) are both high and very similar, indicating that the model is not over-fitting. The accuracy for each fold is very similat, with a standard deviation of only 0.029, indicting that the model can adapt well to new data"
   ]
  },
  {
   "cell_type": "code",
   "execution_count": 9,
   "metadata": {},
   "outputs": [],
   "source": [
    "# cross_val_acc.mean()"
   ]
  },
  {
   "cell_type": "code",
   "execution_count": 10,
   "metadata": {},
   "outputs": [],
   "source": [
    "from sklearn.neural_network import MLPClassifier\n",
    "\n",
    "# experiment by changing:\n",
    "# act func,\n",
    "# no of layers,\n",
    "# size of layers,\n",
    "# learning rate,\n",
    "# epochs,\n",
    "# momentum,\n",
    "# validation threshold\n",
    "\n",
    "mlp_clf = MLPClassifier(random_state=42)"
   ]
  },
  {
   "cell_type": "code",
   "execution_count": 11,
   "metadata": {},
   "outputs": [
    {
     "name": "stderr",
     "output_type": "stream",
     "text": [
      "c:\\Users\\victo\\AppData\\Local\\Programs\\Python\\Python38\\lib\\site-packages\\sklearn\\neural_network\\_multilayer_perceptron.py:1102: DataConversionWarning: A column-vector y was passed when a 1d array was expected. Please change the shape of y to (n_samples, ), for example using ravel().\n",
      "  y = column_or_1d(y, warn=True)\n"
     ]
    },
    {
     "name": "stdout",
     "output_type": "stream",
     "text": [
      "0.7025889967637541\n"
     ]
    }
   ],
   "source": [
    "mlp_clf.fit(x_train, y_train)\n",
    "y_pred = mlp_clf.predict(x_test)\n",
    "print(accuracy_score(y_test, y_pred))"
   ]
  },
  {
   "cell_type": "code",
   "execution_count": null,
   "metadata": {},
   "outputs": [],
   "source": []
  }
 ],
 "metadata": {
  "kernelspec": {
   "display_name": "Python 3",
   "language": "python",
   "name": "python3"
  },
  "language_info": {
   "codemirror_mode": {
    "name": "ipython",
    "version": 3
   },
   "file_extension": ".py",
   "mimetype": "text/x-python",
   "name": "python",
   "nbconvert_exporter": "python",
   "pygments_lexer": "ipython3",
   "version": "3.8.10"
  }
 },
 "nbformat": 4,
 "nbformat_minor": 2
}

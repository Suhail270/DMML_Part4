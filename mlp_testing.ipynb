{
 "cells": [
  {
   "cell_type": "code",
   "execution_count": 7,
   "metadata": {},
   "outputs": [],
   "source": [
    "import pandas as pd\n",
    "\n",
    "# loading the dataset\n",
    "x_train = pd.read_csv('CompleteDataset/x_train_all.csv')\n",
    "y_train = pd.read_csv('CompleteDataset/y_train_all.csv')\n",
    "x_test = pd.read_csv('CompleteDataset/x_test_all.csv')\n",
    "y_test = pd.read_csv('CompleteDataset/y_test_all.csv')"
   ]
  },
  {
   "cell_type": "code",
   "execution_count": 8,
   "metadata": {},
   "outputs": [],
   "source": [
    "# performs z-normalization on our dataset\n",
    "\n",
    "# normalize x_train\n",
    "mean=x_train.mean()\n",
    "std=x_train.std()\n",
    "x_train_norm=(x_train-mean)/std\n",
    "\n",
    "# normalize x_test\n",
    "mean=x_test.mean()\n",
    "std=x_test.std()\n",
    "x_test_norm=(x_test-mean)/std"
   ]
  },
  {
   "cell_type": "code",
   "execution_count": 9,
   "metadata": {},
   "outputs": [],
   "source": [
    "from sklearn.ensemble import IsolationForest\n",
    "\n",
    "# uses isolation forest algorithm to find outliers\n",
    "\n",
    "feature_names = [f'{str(col)}' for col in x_train.columns]\n",
    "x_train_norm.columns = feature_names\n",
    "\n",
    "x_train_norm_copy = x_train_norm.copy()\n",
    "contamination = 0.41\n",
    "iso_forest = IsolationForest(contamination=contamination, random_state=42)\n",
    "\n",
    "outliers = iso_forest.fit_predict(x_train_norm_copy)\n",
    "\n",
    "outlier_indices = x_train_norm_copy.index[outliers == -1]\n",
    "\n",
    "x_train_no_outliers_norm = x_train_norm_copy.drop(outlier_indices)\n",
    "x_train_no_outliers_norm.to_csv('x_train_no_outliers_norm.csv')\n",
    "\n",
    "outlier_indices_df = pd.DataFrame({'outlier_index_norm': outlier_indices})\n",
    "outlier_indices_df.to_csv('outlier_indices_norm.csv', index=False)"
   ]
  },
  {
   "cell_type": "code",
   "execution_count": 10,
   "metadata": {},
   "outputs": [],
   "source": [
    "# applies outlier mining to y train\n",
    "\n",
    "# loads the indices to be removed from the dataset\n",
    "indices_to_remove_norm = pd.read_csv('outlier_indices_norm.csv')\n",
    "\n",
    "# removes outliers found after normalizing from y train\n",
    "y_train_filtered_outlier_norm = y_train[~y_train.index.isin(indices_to_remove_norm['outlier_index_norm'])]\n",
    "\n",
    "# saves to csv for future use\n",
    "y_train_filtered_outlier_norm.to_csv('y_train_filtered_outlier_norm.csv')"
   ]
  },
  {
   "cell_type": "code",
   "execution_count": 11,
   "metadata": {},
   "outputs": [],
   "source": [
    "# load y train without outliers\n",
    "y_train_filtered_outlier_norm=pd.read_csv('y_train_filtered_outlier_norm.csv')\n",
    "\n",
    "# drop previous indices\n",
    "y_train_filtered_outlier_norm.drop('Unnamed: 0',axis=1, inplace=True)"
   ]
  },
  {
   "cell_type": "code",
   "execution_count": 12,
   "metadata": {},
   "outputs": [],
   "source": [
    "from sklearn.neural_network import MLPClassifier\n",
    "\n",
    "# experiment by changing:\n",
    "# act func,\n",
    "# no of layers,\n",
    "# size of layers,\n",
    "# learning rate,\n",
    "# epochs,\n",
    "# momentum,\n",
    "# validation threshold TODO\n",
    "\n",
    "# mlp_clf = MLPClassifier(solver=\"sgd\", random_state=42)"
   ]
  },
  {
   "cell_type": "code",
   "execution_count": 26,
   "metadata": {},
   "outputs": [],
   "source": [
    "from sklearn.metrics import accuracy_score\n",
    "\n",
    "def vary_activation(x_train, y_train):\n",
    "    for activation in [\"identity\", \"logistic\", \"tanh\", \"relu\"]:\n",
    "        mlp_clf = MLPClassifier(\n",
    "            random_state=42,\n",
    "            solver=\"sgd\",\n",
    "            activation=\"relu\",\n",
    "            hidden_layer_sizes=(100,),\n",
    "            learning_rate_init=0.001,\n",
    "            max_iter=200,\n",
    "            momentum=0.9\n",
    "        )\n",
    "        mlp_clf.fit(x_train, y_train)\n",
    "        y_pred = mlp_clf.predict(x_test)\n",
    "        print(activation + \": \" + str(accuracy_score(y_test, y_pred)))\n"
   ]
  },
  {
   "cell_type": "code",
   "execution_count": 13,
   "metadata": {},
   "outputs": [],
   "source": [
    "# baseline with deafult values for the hyperparameters (excl. solver, using regression as done in the lectures)\n",
    "mlp_clf = MLPClassifier(\n",
    "    random_state=42,\n",
    "    solver=\"sgd\",\n",
    "    activation=\"relu\",\n",
    "    hidden_layer_sizes=(100,),\n",
    "    learning_rate_init=0.001,\n",
    "    max_iter=200,\n",
    "    momentum=0.9\n",
    ")"
   ]
  },
  {
   "cell_type": "code",
   "execution_count": 14,
   "metadata": {},
   "outputs": [
    {
     "name": "stderr",
     "output_type": "stream",
     "text": [
      "c:\\Users\\victo\\AppData\\Local\\Programs\\Python\\Python38\\lib\\site-packages\\sklearn\\neural_network\\_multilayer_perceptron.py:1102: DataConversionWarning: A column-vector y was passed when a 1d array was expected. Please change the shape of y to (n_samples, ), for example using ravel().\n",
      "  y = column_or_1d(y, warn=True)\n"
     ]
    },
    {
     "name": "stdout",
     "output_type": "stream",
     "text": [
      "0.24271844660194175\n"
     ]
    }
   ],
   "source": [
    "from sklearn.metrics import accuracy_score\n",
    "\n",
    "mlp_clf.fit(x_train, y_train)\n",
    "y_pred = mlp_clf.predict(x_test)\n",
    "print(accuracy_score(y_test, y_pred))"
   ]
  },
  {
   "cell_type": "code",
   "execution_count": 15,
   "metadata": {},
   "outputs": [
    {
     "name": "stderr",
     "output_type": "stream",
     "text": [
      "c:\\Users\\victo\\AppData\\Local\\Programs\\Python\\Python38\\lib\\site-packages\\sklearn\\neural_network\\_multilayer_perceptron.py:1102: DataConversionWarning: A column-vector y was passed when a 1d array was expected. Please change the shape of y to (n_samples, ), for example using ravel().\n",
      "  y = column_or_1d(y, warn=True)\n"
     ]
    },
    {
     "name": "stdout",
     "output_type": "stream",
     "text": [
      "0.5805825242718446\n"
     ]
    },
    {
     "name": "stderr",
     "output_type": "stream",
     "text": [
      "c:\\Users\\victo\\AppData\\Local\\Programs\\Python\\Python38\\lib\\site-packages\\sklearn\\neural_network\\_multilayer_perceptron.py:691: ConvergenceWarning: Stochastic Optimizer: Maximum iterations (200) reached and the optimization hasn't converged yet.\n",
      "  warnings.warn(\n"
     ]
    }
   ],
   "source": [
    "mlp_clf.fit(x_train_norm, y_train)\n",
    "y_pred = mlp_clf.predict(x_test)\n",
    "print(accuracy_score(y_test, y_pred))"
   ]
  },
  {
   "cell_type": "code",
   "execution_count": 16,
   "metadata": {},
   "outputs": [
    {
     "name": "stderr",
     "output_type": "stream",
     "text": [
      "c:\\Users\\victo\\AppData\\Local\\Programs\\Python\\Python38\\lib\\site-packages\\sklearn\\neural_network\\_multilayer_perceptron.py:1102: DataConversionWarning: A column-vector y was passed when a 1d array was expected. Please change the shape of y to (n_samples, ), for example using ravel().\n",
      "  y = column_or_1d(y, warn=True)\n"
     ]
    },
    {
     "name": "stdout",
     "output_type": "stream",
     "text": [
      "0.3482200647249191\n"
     ]
    },
    {
     "name": "stderr",
     "output_type": "stream",
     "text": [
      "c:\\Users\\victo\\AppData\\Local\\Programs\\Python\\Python38\\lib\\site-packages\\sklearn\\neural_network\\_multilayer_perceptron.py:691: ConvergenceWarning: Stochastic Optimizer: Maximum iterations (200) reached and the optimization hasn't converged yet.\n",
      "  warnings.warn(\n"
     ]
    }
   ],
   "source": [
    "mlp_clf.fit(x_train_no_outliers_norm, y_train_filtered_outlier_norm)\n",
    "y_pred = mlp_clf.predict(x_test)\n",
    "print(accuracy_score(y_test, y_pred))"
   ]
  },
  {
   "cell_type": "code",
   "execution_count": 27,
   "metadata": {},
   "outputs": [
    {
     "name": "stderr",
     "output_type": "stream",
     "text": [
      "c:\\Users\\victo\\AppData\\Local\\Programs\\Python\\Python38\\lib\\site-packages\\sklearn\\neural_network\\_multilayer_perceptron.py:1102: DataConversionWarning: A column-vector y was passed when a 1d array was expected. Please change the shape of y to (n_samples, ), for example using ravel().\n",
      "  y = column_or_1d(y, warn=True)\n",
      "c:\\Users\\victo\\AppData\\Local\\Programs\\Python\\Python38\\lib\\site-packages\\sklearn\\neural_network\\_multilayer_perceptron.py:691: ConvergenceWarning: Stochastic Optimizer: Maximum iterations (200) reached and the optimization hasn't converged yet.\n",
      "  warnings.warn(\n",
      "c:\\Users\\victo\\AppData\\Local\\Programs\\Python\\Python38\\lib\\site-packages\\sklearn\\neural_network\\_multilayer_perceptron.py:1102: DataConversionWarning: A column-vector y was passed when a 1d array was expected. Please change the shape of y to (n_samples, ), for example using ravel().\n",
      "  y = column_or_1d(y, warn=True)\n"
     ]
    },
    {
     "name": "stdout",
     "output_type": "stream",
     "text": [
      "identity: 0.5805825242718446\n"
     ]
    },
    {
     "name": "stderr",
     "output_type": "stream",
     "text": [
      "c:\\Users\\victo\\AppData\\Local\\Programs\\Python\\Python38\\lib\\site-packages\\sklearn\\neural_network\\_multilayer_perceptron.py:691: ConvergenceWarning: Stochastic Optimizer: Maximum iterations (200) reached and the optimization hasn't converged yet.\n",
      "  warnings.warn(\n",
      "c:\\Users\\victo\\AppData\\Local\\Programs\\Python\\Python38\\lib\\site-packages\\sklearn\\neural_network\\_multilayer_perceptron.py:1102: DataConversionWarning: A column-vector y was passed when a 1d array was expected. Please change the shape of y to (n_samples, ), for example using ravel().\n",
      "  y = column_or_1d(y, warn=True)\n"
     ]
    },
    {
     "name": "stdout",
     "output_type": "stream",
     "text": [
      "logistic: 0.5805825242718446\n"
     ]
    },
    {
     "name": "stderr",
     "output_type": "stream",
     "text": [
      "c:\\Users\\victo\\AppData\\Local\\Programs\\Python\\Python38\\lib\\site-packages\\sklearn\\neural_network\\_multilayer_perceptron.py:691: ConvergenceWarning: Stochastic Optimizer: Maximum iterations (200) reached and the optimization hasn't converged yet.\n",
      "  warnings.warn(\n",
      "c:\\Users\\victo\\AppData\\Local\\Programs\\Python\\Python38\\lib\\site-packages\\sklearn\\neural_network\\_multilayer_perceptron.py:1102: DataConversionWarning: A column-vector y was passed when a 1d array was expected. Please change the shape of y to (n_samples, ), for example using ravel().\n",
      "  y = column_or_1d(y, warn=True)\n"
     ]
    },
    {
     "name": "stdout",
     "output_type": "stream",
     "text": [
      "tanh: 0.5805825242718446\n",
      "relu: 0.5805825242718446\n"
     ]
    },
    {
     "name": "stderr",
     "output_type": "stream",
     "text": [
      "c:\\Users\\victo\\AppData\\Local\\Programs\\Python\\Python38\\lib\\site-packages\\sklearn\\neural_network\\_multilayer_perceptron.py:691: ConvergenceWarning: Stochastic Optimizer: Maximum iterations (200) reached and the optimization hasn't converged yet.\n",
      "  warnings.warn(\n"
     ]
    }
   ],
   "source": [
    "vary_activation(x_train_norm, y_train)"
   ]
  },
  {
   "cell_type": "code",
   "execution_count": 6,
   "metadata": {},
   "outputs": [],
   "source": [
    "from sklearn.model_selection import GridSearchCV\n",
    "from sklearn.model_selection import RandomizedSearchCV\n",
    "\n",
    "def grid_search(clf, x_train, y_train):\n",
    "    # transform pandas dataset to a 1d numpy array\n",
    "    y_train = y_train.to_numpy().ravel()\n",
    "    # y_test = y_test.to_numpy().ravel()\n",
    "\n",
    "    # dictionary of parameters to be varied (keys), and arrays of possible values (values)\n",
    "    param_grid = {\n",
    "        # number of layers and their sizes\n",
    "        \"hidden_layer_sizes\": [[50], [100], [150], [50, 50], [100, 100], [150, 150]],\n",
    "        # activation functions\n",
    "        \"activation\": [\"identity\", \"logistic\", \"tanh\", \"relu\"],\n",
    "        # solver, \"sgd\" is the only solver to use momentum, \"adam\" is the only other to use epochs\n",
    "        # \"solver\": [\"sgd\"],\n",
    "        # not required\n",
    "        # \"alpha\": [0.0001, 0.05],\n",
    "        # learning rate\n",
    "        # \"learning_rate\": [\"constant\",\"adaptive\"],\n",
    "        # exponent use for invscaling\n",
    "        \"learning_rate_init\": [0.001],\n",
    "        # max epochs with no improvement before stopping\n",
    "        # \"n_iter_no_change\": [10],\n",
    "        # max number of epochs\n",
    "        \"max_iter\": [200],\n",
    "        # momentum\n",
    "        \"momentum\": [0.9]\n",
    "    }"
   ]
  },
  {
   "cell_type": "code",
   "execution_count": null,
   "metadata": {},
   "outputs": [],
   "source": []
  },
  {
   "cell_type": "code",
   "execution_count": null,
   "metadata": {},
   "outputs": [],
   "source": []
  },
  {
   "cell_type": "code",
   "execution_count": null,
   "metadata": {},
   "outputs": [],
   "source": []
  },
  {
   "cell_type": "code",
   "execution_count": null,
   "metadata": {},
   "outputs": [],
   "source": []
  }
 ],
 "metadata": {
  "kernelspec": {
   "display_name": "Python 3",
   "language": "python",
   "name": "python3"
  },
  "language_info": {
   "codemirror_mode": {
    "name": "ipython",
    "version": 3
   },
   "file_extension": ".py",
   "mimetype": "text/x-python",
   "name": "python",
   "nbconvert_exporter": "python",
   "pygments_lexer": "ipython3",
   "version": "3.8.10"
  }
 },
 "nbformat": 4,
 "nbformat_minor": 2
}
